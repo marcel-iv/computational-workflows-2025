{
 "cells": [
  {
   "cell_type": "markdown",
   "metadata": {},
   "source": [
    "# A short introduction to containerized software\n",
    "\n",
    "After spending time using nf-core pipelines to answer bioinformatic questions, we will focus on the processes that lie behind these pipelines now.\n",
    "\n",
    "Today, we will focus on containerization, namely via Docker. \n",
    "\n"
   ]
  },
  {
   "cell_type": "markdown",
   "metadata": {},
   "source": [
    "1. Check if Docker is installed."
   ]
  },
  {
   "cell_type": "code",
   "execution_count": 1,
   "metadata": {},
   "outputs": [
    {
     "name": "stdout",
     "output_type": "stream",
     "text": [
      "Client: Docker Engine - Community\n",
      " Version:    28.4.0\n",
      " Context:    desktop-linux\n",
      " Debug Mode: false\n",
      " Plugins:\n",
      "  ai: Docker AI Agent - Ask Gordon (Docker Inc.)\n",
      "    Version:  v1.9.11\n",
      "    Path:     /home/marcelullose/.docker/cli-plugins/docker-ai\n",
      "  buildx: Docker Buildx (Docker Inc.)\n",
      "    Version:  v0.28.0-desktop.1\n",
      "    Path:     /home/marcelullose/.docker/cli-plugins/docker-buildx\n",
      "  cloud: Docker Cloud (Docker Inc.)\n",
      "    Version:  v0.4.29\n",
      "    Path:     /home/marcelullose/.docker/cli-plugins/docker-cloud\n",
      "  compose: Docker Compose (Docker Inc.)\n",
      "    Version:  v2.39.4-desktop.1\n",
      "    Path:     /home/marcelullose/.docker/cli-plugins/docker-compose\n",
      "  debug: Get a shell into any image or container (Docker Inc.)\n",
      "    Version:  0.0.42\n",
      "    Path:     /home/marcelullose/.docker/cli-plugins/docker-debug\n",
      "  desktop: Docker Desktop commands (Docker Inc.)\n",
      "    Version:  v0.2.0\n",
      "    Path:     /home/marcelullose/.docker/cli-plugins/docker-desktop\n",
      "  extension: Manages Docker extensions (Docker Inc.)\n",
      "    Version:  v0.2.31\n",
      "    Path:     /home/marcelullose/.docker/cli-plugins/docker-extension\n",
      "  init: Creates Docker-related starter files for your project (Docker Inc.)\n",
      "    Version:  v1.4.0\n",
      "    Path:     /home/marcelullose/.docker/cli-plugins/docker-init\n",
      "  mcp: Docker MCP Plugin (Docker Inc.)\n",
      "    Version:  v0.21.0\n",
      "    Path:     /home/marcelullose/.docker/cli-plugins/docker-mcp\n",
      "  sbom: View the packaged-based Software Bill Of Materials (SBOM) for an image (Anchore Inc.)\n",
      "    Version:  0.6.0\n",
      "    Path:     /home/marcelullose/.docker/cli-plugins/docker-sbom\n",
      "  scout: Docker Scout (Docker Inc.)\n",
      "    Version:  v1.18.3\n",
      "    Path:     /home/marcelullose/.docker/cli-plugins/docker-scout\n",
      "\n",
      "Server:\n",
      " Containers: 2\n",
      "  Running: 0\n",
      "  Paused: 0\n",
      "  Stopped: 2\n",
      " Images: 14\n",
      " Server Version: 28.4.0\n",
      " Storage Driver: overlayfs\n",
      "  driver-type: io.containerd.snapshotter.v1\n",
      " Logging Driver: json-file\n",
      " Cgroup Driver: cgroupfs\n",
      " Cgroup Version: 2\n",
      " Plugins:\n",
      "  Volume: local\n",
      "  Network: bridge host ipvlan macvlan null overlay\n",
      "  Log: awslogs fluentd gcplogs gelf journald json-file local splunk syslog\n",
      " CDI spec directories:\n",
      "  /etc/cdi\n",
      "  /var/run/cdi\n",
      " Swarm: inactive\n",
      " Runtimes: io.containerd.runc.v2 runc\n",
      " Default Runtime: runc\n",
      " Init Binary: docker-init\n",
      " containerd version: 05044ec0a9a75232cad458027ca83437aae3f4da\n",
      " runc version: v1.2.5-0-g59923ef\n",
      " init version: de40ad0\n",
      " Security Options:\n",
      "  seccomp\n",
      "   Profile: builtin\n",
      "  cgroupns\n",
      " Kernel Version: 6.10.14-linuxkit\n",
      " Operating System: Docker Desktop\n",
      " OSType: linux\n",
      " Architecture: x86_64\n",
      " CPUs: 12\n",
      " Total Memory: 3.821GiB\n",
      " Name: docker-desktop\n",
      " ID: 5f750765-2d76-4623-afa2-c1132de0b64e\n",
      " Docker Root Dir: /var/lib/docker\n",
      " Debug Mode: false\n",
      " HTTP Proxy: http.docker.internal:3128\n",
      " HTTPS Proxy: http.docker.internal:3128\n",
      " No Proxy: hubproxy.docker.internal\n",
      " Labels:\n",
      "  com.docker.desktop.address=unix:///home/marcelullose/.docker/desktop/docker-cli.sock\n",
      " Experimental: false\n",
      " Insecure Registries:\n",
      "  hubproxy.docker.internal:5555\n",
      "  ::1/128\n",
      "  127.0.0.0/8\n",
      " Live Restore Enabled: false\n",
      "\n"
     ]
    }
   ],
   "source": [
    "!docker info"
   ]
  },
  {
   "cell_type": "markdown",
   "metadata": {},
   "source": [
    "### What is a container?"
   ]
  },
  {
   "cell_type": "markdown",
   "metadata": {},
   "source": [
    "VM which runs of the users kernel, that contains specific software and dependencies in an encapsuled enviroment."
   ]
  },
  {
   "cell_type": "markdown",
   "metadata": {},
   "source": [
    "### Why do we use containers?"
   ]
  },
  {
   "cell_type": "markdown",
   "metadata": {},
   "source": [
    "Consistent version and runtime enviroment."
   ]
  },
  {
   "cell_type": "markdown",
   "metadata": {},
   "source": [
    "### What is a docker image?"
   ]
  },
  {
   "cell_type": "markdown",
   "metadata": {},
   "source": [
    "Recipe of software with specified versions and installer files."
   ]
  },
  {
   "cell_type": "markdown",
   "metadata": {},
   "source": [
    "### Let's run our first docker image:"
   ]
  },
  {
   "cell_type": "markdown",
   "metadata": {},
   "source": [
    "### Run your first docker container"
   ]
  },
  {
   "cell_type": "code",
   "execution_count": 9,
   "metadata": {},
   "outputs": [
    {
     "name": "stdout",
     "output_type": "stream",
     "text": [
      "\n",
      "Hello from Docker!\n",
      "This message shows that your installation appears to be working correctly.\n",
      "\n",
      "To generate this message, Docker took the following steps:\n",
      " 1. The Docker client contacted the Docker daemon.\n",
      " 2. The Docker daemon pulled the \"hello-world\" image from the Docker Hub.\n",
      "    (amd64)\n",
      " 3. The Docker daemon created a new container from that image which runs the\n",
      "    executable that produces the output you are currently reading.\n",
      " 4. The Docker daemon streamed that output to the Docker client, which sent it\n",
      "    to your terminal.\n",
      "\n",
      "To try something more ambitious, you can run an Ubuntu container with:\n",
      " $ docker run -it ubuntu bash\n",
      "\n",
      "Share images, automate workflows, and more with a free Docker ID:\n",
      " https://hub.docker.com/\n",
      "\n",
      "For more examples and ideas, visit:\n",
      " https://docs.docker.com/get-started/\n",
      "\n"
     ]
    }
   ],
   "source": [
    "!docker run hello-world"
   ]
  },
  {
   "cell_type": "markdown",
   "metadata": {},
   "source": [
    "### Find the container ID"
   ]
  },
  {
   "cell_type": "code",
   "execution_count": null,
   "metadata": {},
   "outputs": [
    {
     "name": "stdout",
     "output_type": "stream",
     "text": [
      "CONTAINER ID   IMAGE                                                             COMMAND                  CREATED          STATUS                      PORTS     NAMES\n",
      "1ef90c41a8e1   hello-world                                                       \"/hello\"                 4 minutes ago    Exited (0) 4 minutes ago              gifted_grothendieck\n",
      "069a73a48eb8   hello-world                                                       \"/hello\"                 10 minutes ago   Exited (0) 10 minutes ago             awesome_gates\n",
      "d06b30cc0bb7   quay.io/biocontainers/bioconductor-deseq2:1.34.0--r41hc247a5b_3   \"/usr/local/env-exec…\"   2 hours ago      Exited (255) 2 hours ago              nxf-KP9sdd9jqHHm62n3NafFo8Sr\n",
      "6bbaff2c8e84   quay.io/biocontainers/fq:0.12.0--h9ee0642_0                       \"/usr/local/env-exec…\"   23 hours ago     Exited (137) 23 hours ago             nxf-CWVhEyb0NKeOin2EAjis82Ik\n"
     ]
    }
   ],
   "source": [
    "!docker container ls -a\n",
    "# 1ef90c41a8e1"
   ]
  },
  {
   "cell_type": "markdown",
   "metadata": {},
   "source": [
    "### Delete the container again, give proof its deleted"
   ]
  },
  {
   "cell_type": "code",
   "execution_count": 13,
   "metadata": {},
   "outputs": [
    {
     "name": "stdout",
     "output_type": "stream",
     "text": [
      "1ef90c41a8e1\n",
      "CONTAINER ID   IMAGE                                                             COMMAND                  CREATED        STATUS                      PORTS     NAMES\n",
      "d06b30cc0bb7   quay.io/biocontainers/bioconductor-deseq2:1.34.0--r41hc247a5b_3   \"/usr/local/env-exec…\"   2 hours ago    Exited (255) 2 hours ago              nxf-KP9sdd9jqHHm62n3NafFo8Sr\n",
      "6bbaff2c8e84   quay.io/biocontainers/fq:0.12.0--h9ee0642_0                       \"/usr/local/env-exec…\"   23 hours ago   Exited (137) 23 hours ago             nxf-CWVhEyb0NKeOin2EAjis82Ik\n"
     ]
    }
   ],
   "source": [
    "!docker container rm 1ef90c41a8e1\n",
    "!docker container ls -a"
   ]
  },
  {
   "cell_type": "markdown",
   "metadata": {},
   "source": [
    "### FASTQC is a very useful tool as you've learned last week. Let's try and run it from command line\n",
    "\n",
    "Link to the software: https://www.bioinformatics.babraham.ac.uk/projects/fastqc/"
   ]
  },
  {
   "cell_type": "markdown",
   "metadata": {},
   "source": [
    "Please describe the steps you took to download and run the software for the example fastq file from last week below:"
   ]
  },
  {
   "cell_type": "markdown",
   "metadata": {},
   "source": [
    "1. download from conda `conda install fastqc`\n",
    "2. run in bash: `fastqc <file1> <file2> <file3> -o ./outdir`"
   ]
  },
  {
   "cell_type": "code",
   "execution_count": 17,
   "metadata": {},
   "outputs": [
    {
     "name": "stdout",
     "output_type": "stream",
     "text": [
      "FastQC v0.12.1\n"
     ]
    }
   ],
   "source": [
    "!fastqc --version"
   ]
  },
  {
   "cell_type": "code",
   "execution_count": 20,
   "metadata": {},
   "outputs": [
    {
     "name": "stdout",
     "output_type": "stream",
     "text": [
      "mkdir: cannot create directory ‘conda-fastqc’: File exists\n",
      "application/gzip\n",
      "Started analysis of SRX19144486_SRR23195516_1.fastq.gz\n",
      "Approx 5% complete for SRX19144486_SRR23195516_1.fastq.gz\n",
      "Approx 10% complete for SRX19144486_SRR23195516_1.fastq.gz\n",
      "Approx 15% complete for SRX19144486_SRR23195516_1.fastq.gz\n",
      "Approx 20% complete for SRX19144486_SRR23195516_1.fastq.gz\n",
      "Approx 25% complete for SRX19144486_SRR23195516_1.fastq.gz\n",
      "Approx 30% complete for SRX19144486_SRR23195516_1.fastq.gz\n",
      "Approx 35% complete for SRX19144486_SRR23195516_1.fastq.gz\n",
      "Approx 40% complete for SRX19144486_SRR23195516_1.fastq.gz\n",
      "Approx 45% complete for SRX19144486_SRR23195516_1.fastq.gz\n",
      "Approx 50% complete for SRX19144486_SRR23195516_1.fastq.gz\n",
      "Approx 55% complete for SRX19144486_SRR23195516_1.fastq.gz\n",
      "Approx 60% complete for SRX19144486_SRR23195516_1.fastq.gz\n",
      "Approx 65% complete for SRX19144486_SRR23195516_1.fastq.gz\n",
      "Approx 70% complete for SRX19144486_SRR23195516_1.fastq.gz\n",
      "Approx 75% complete for SRX19144486_SRR23195516_1.fastq.gz\n",
      "Approx 80% complete for SRX19144486_SRR23195516_1.fastq.gz\n",
      "Approx 85% complete for SRX19144486_SRR23195516_1.fastq.gz\n",
      "Approx 90% complete for SRX19144486_SRR23195516_1.fastq.gz\n",
      "Approx 95% complete for SRX19144486_SRR23195516_1.fastq.gz\n",
      "Analysis complete for SRX19144486_SRR23195516_1.fastq.gz\n"
     ]
    }
   ],
   "source": [
    "!mkdir -p conda-fastqc\n",
    "!fastqc ../day_02/fastq/fastq/SRX19144486_SRR23195516_1.fastq.gz -o ./conda-fastqc"
   ]
  },
  {
   "cell_type": "markdown",
   "metadata": {},
   "source": [
    "### Very well, now let's try to make use of its docker container\n",
    "\n",
    "1. create a container holding fastqc using seqera containers (https://seqera.io/containers/)\n",
    "2. use the container to generate a fastqc html of the example fastq file"
   ]
  },
  {
   "cell_type": "code",
   "execution_count": 46,
   "metadata": {},
   "outputs": [
    {
     "name": "stdout",
     "output_type": "stream",
     "text": [
      "0.12.1--af7a5314d5015c29: Pulling from library/fastqc\n",
      "Digest: sha256:b7f6caf359264cf86da901b0aa5f66735a6506fcfbf103c66db6987253ad44c1\n",
      "Status: Image is up to date for community.wave.seqera.io/library/fastqc:0.12.1--af7a5314d5015c29\n",
      "community.wave.seqera.io/library/fastqc:0.12.1--af7a5314d5015c29\n"
     ]
    }
   ],
   "source": [
    "# pull the container\n",
    "!docker pull community.wave.seqera.io/library/fastqc:0.12.1--af7a5314d5015c29 "
   ]
  },
  {
   "cell_type": "code",
   "execution_count": 52,
   "metadata": {},
   "outputs": [
    {
     "name": "stdout",
     "output_type": "stream",
     "text": [
      "CONTAINER ID   IMAGE          COMMAND                  CREATED          STATUS                      PORTS     NAMES\n",
      "f5bb938105e0   b7f6caf35926   \"/usr/local/bin/_ent…\"   50 seconds ago   Exited (0) 50 seconds ago             nostalgic_engelbart\n"
     ]
    }
   ],
   "source": [
    "!docker container ls -a"
   ]
  },
  {
   "cell_type": "code",
   "execution_count": 80,
   "metadata": {},
   "outputs": [
    {
     "name": "stdout",
     "output_type": "stream",
     "text": [
      "Specified output directory '/home/marcelullose/Documents/SoSe25/ComputationalWorkflows/computational-workflows-2025/notebooks/day_03_part2/docker-fastqc/' does not exist\n"
     ]
    }
   ],
   "source": [
    "!docker run -v $(pwd)/..:$(pwd) -w $(pwd) sha256:b7f6caf359264cf86da901b0aa5f66735a6506fcfbf103c66db6987253ad44c1 fastqc day_02/fastq/fastq/SRX19144486_SRR23195516_1.fastq.gz -o $(pwd)/docker-fastqc/"
   ]
  },
  {
   "cell_type": "code",
   "execution_count": null,
   "metadata": {},
   "outputs": [],
   "source": [
    "/home/marcelullose/Documents/SoSe25/ComputationalWorkflows/computational-workflows-2025/notebooks"
   ]
  },
  {
   "cell_type": "code",
   "execution_count": 88,
   "metadata": {},
   "outputs": [
    {
     "name": "stdout",
     "output_type": "stream",
     "text": [
      "application/gzip\n",
      "Started analysis of SRX19144486_SRR23195516_1.fastq.gz\n",
      "Approx 5% complete for SRX19144486_SRR23195516_1.fastq.gz\n",
      "Approx 10% complete for SRX19144486_SRR23195516_1.fastq.gz\n",
      "Approx 15% complete for SRX19144486_SRR23195516_1.fastq.gz\n",
      "Approx 20% complete for SRX19144486_SRR23195516_1.fastq.gz\n",
      "Approx 25% complete for SRX19144486_SRR23195516_1.fastq.gz\n",
      "Approx 30% complete for SRX19144486_SRR23195516_1.fastq.gz\n",
      "Approx 35% complete for SRX19144486_SRR23195516_1.fastq.gz\n",
      "Approx 40% complete for SRX19144486_SRR23195516_1.fastq.gz\n",
      "Approx 45% complete for SRX19144486_SRR23195516_1.fastq.gz\n",
      "Approx 50% complete for SRX19144486_SRR23195516_1.fastq.gz\n",
      "Approx 55% complete for SRX19144486_SRR23195516_1.fastq.gz\n",
      "Approx 60% complete for SRX19144486_SRR23195516_1.fastq.gz\n",
      "Approx 65% complete for SRX19144486_SRR23195516_1.fastq.gz\n",
      "Approx 70% complete for SRX19144486_SRR23195516_1.fastq.gz\n",
      "Approx 75% complete for SRX19144486_SRR23195516_1.fastq.gz\n",
      "Approx 80% complete for SRX19144486_SRR23195516_1.fastq.gz\n",
      "Approx 85% complete for SRX19144486_SRR23195516_1.fastq.gz\n",
      "Approx 90% complete for SRX19144486_SRR23195516_1.fastq.gz\n",
      "Approx 95% complete for SRX19144486_SRR23195516_1.fastq.gz\n",
      "Analysis complete for SRX19144486_SRR23195516_1.fastq.gz\n"
     ]
    }
   ],
   "source": [
    "!docker run -v /home/marcelullose/Documents/SoSe25/ComputationalWorkflows/computational-workflows-2025/notebooks:/home/marcelullose/Documents/SoSe25/ComputationalWorkflows/computational-workflows-2025/notebooks -w /home/marcelullose/Documents/SoSe25/ComputationalWorkflows/computational-workflows-2025/notebooks sha256:b7f6caf359264cf86da901b0aa5f66735a6506fcfbf103c66db6987253ad44c1 fastqc day_02/fastq/fastq/SRX19144486_SRR23195516_1.fastq.gz -o ~/Documents/SoSe25/ComputationalWorkflows/computational-workflows-2025/notebooks/day_03_part2/docker-fastqc"
   ]
  },
  {
   "cell_type": "code",
   "execution_count": 75,
   "metadata": {},
   "outputs": [
    {
     "name": "stdout",
     "output_type": "stream",
     "text": [
      "/home/marcelullose/Documents/SoSe25/ComputationalWorkflows/computational-workflows-2025/notebooks/day_03_part2\n"
     ]
    }
   ],
   "source": [
    "!docker run -v $(pwd)/..:$(pwd)/.. -w $(pwd) sha256:b7f6caf359264cf86da901b0aa5f66735a6506fcfbf103c66db6987253ad44c1 pwd"
   ]
  },
  {
   "cell_type": "code",
   "execution_count": 87,
   "metadata": {},
   "outputs": [
    {
     "name": "stdout",
     "output_type": "stream",
     "text": [
      "CONTAINER ID   IMAGE     COMMAND   CREATED   STATUS    PORTS     NAMES\n"
     ]
    }
   ],
   "source": [
    "!docker ps -a"
   ]
  },
  {
   "cell_type": "code",
   "execution_count": 86,
   "metadata": {},
   "outputs": [
    {
     "name": "stdout",
     "output_type": "stream",
     "text": [
      "8cbf03d54595\n",
      "ab1033664d00\n",
      "c368b1250d15\n",
      "c2f8393f5b06\n",
      "da7d1591825f\n",
      "5e469b453e0e\n",
      "82bbee6a97ef\n",
      "004ac544ee1f\n",
      "4274b9d14fd4\n",
      "c2157e8d6a72\n",
      "46031d541c46\n",
      "f5bb938105e0\n"
     ]
    }
   ],
   "source": [
    "!docker rm $(docker ps --filter status=exited -q)"
   ]
  },
  {
   "cell_type": "markdown",
   "metadata": {},
   "source": [
    "### Now that you know how to use a docker container, which approach was easier and which approach will be easier in the future?"
   ]
  },
  {
   "cell_type": "markdown",
   "metadata": {},
   "source": [
    "### What would you say, which approach is more reproducible?"
   ]
  },
  {
   "cell_type": "markdown",
   "metadata": {},
   "source": [
    "### Compare the file to last weeks fastqc results, are they identical?\n",
    "### Is the fastqc version identical?"
   ]
  },
  {
   "cell_type": "markdown",
   "metadata": {},
   "source": [
    "## Dockerfiles\n",
    "\n",
    "We now used Docker containers and images directly to boost our research. \n",
    "\n",
    "Let's create our own toy Dockerfile including the \"cowsay\" tool (https://en.wikipedia.org/wiki/Cowsay)\n",
    "\n",
    "Hints:\n",
    "1. Docker is Linux, so you need to know the apt-get command to install \"cowsay\""
   ]
  },
  {
   "cell_type": "code",
   "execution_count": null,
   "metadata": {},
   "outputs": [],
   "source": [
    "# open the file \"my_dockerfile\" in a text editor"
   ]
  },
  {
   "cell_type": "markdown",
   "metadata": {},
   "source": [
    "### Explain the RUN and ENV lines you added to the file"
   ]
  },
  {
   "cell_type": "markdown",
   "metadata": {},
   "source": []
  },
  {
   "cell_type": "code",
   "execution_count": 4,
   "metadata": {},
   "outputs": [],
   "source": [
    "# build the docker image\n"
   ]
  },
  {
   "cell_type": "code",
   "execution_count": null,
   "metadata": {},
   "outputs": [],
   "source": [
    "# make sure that the image has been built\n"
   ]
  },
  {
   "cell_type": "code",
   "execution_count": null,
   "metadata": {},
   "outputs": [],
   "source": [
    "# run the docker file \n"
   ]
  },
  {
   "cell_type": "markdown",
   "metadata": {},
   "source": [
    "## Let's do some bioinformatics with the docker file and create a new docker file that holds the salmon tool used in rnaseq\n",
    "\n",
    "To do so, use \"curl\" in your new dockerfile to get salmon from https://github.com/COMBINE-lab/salmon/releases/download/v1.5.2/salmon-1.5.2_linux_x86_64.tar.gz"
   ]
  },
  {
   "cell_type": "code",
   "execution_count": null,
   "metadata": {
    "vscode": {
     "languageId": "shellscript"
    }
   },
   "outputs": [],
   "source": [
    "# use the file \"salmon_docker\" in this directory to build a new docker image"
   ]
  },
  {
   "cell_type": "code",
   "execution_count": null,
   "metadata": {
    "vscode": {
     "languageId": "shellscript"
    }
   },
   "outputs": [],
   "source": [
    "# build the image\n"
   ]
  },
  {
   "cell_type": "code",
   "execution_count": 1,
   "metadata": {
    "vscode": {
     "languageId": "shellscript"
    }
   },
   "outputs": [],
   "source": [
    "# run the docker image to give out the version of salmon\n"
   ]
  },
  {
   "cell_type": "markdown",
   "metadata": {},
   "source": [
    "## Do you think bioinformaticians have to create a docker image every time they want to run a tool?\n",
    "\n",
    "Find the salmon docker image online and run it on your computer.\n",
    "\n",
    "What is https://biocontainers.pro/ ?"
   ]
  },
  {
   "cell_type": "markdown",
   "metadata": {},
   "source": [
    "## Are there other ways to create Docker (or Apptainer) images?\n",
    "\n",
    "What is https://seqera.io/containers/ ?"
   ]
  }
 ],
 "metadata": {
  "kernelspec": {
   "display_name": "nf-core",
   "language": "python",
   "name": "python3"
  },
  "language_info": {
   "codemirror_mode": {
    "name": "ipython",
    "version": 3
   },
   "file_extension": ".py",
   "mimetype": "text/x-python",
   "name": "python",
   "nbconvert_exporter": "python",
   "pygments_lexer": "ipython3",
   "version": "3.13.7"
  }
 },
 "nbformat": 4,
 "nbformat_minor": 2
}
